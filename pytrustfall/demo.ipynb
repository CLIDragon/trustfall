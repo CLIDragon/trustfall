{
 "cells": [
  {
   "cell_type": "code",
   "execution_count": 1,
   "id": "bebe7615-3bc3-492b-ae3b-dba99003c2e0",
   "metadata": {},
   "outputs": [],
   "source": [
    "from typing import Any, Mapping, Iterable, Iterator, Tuple\n",
    "\n",
    "from pytrustfall import (\n",
    "    Adapter, DataContext, FrontendError, \n",
    "    ParseError, Schema, QueryArgumentsError,\n",
    "    ValidationError, execute_query,\n",
    ")"
   ]
  },
  {
   "cell_type": "code",
   "execution_count": 2,
   "id": "9f99495e-4e0a-4fb9-a8a2-6030249c1e8f",
   "metadata": {
    "tags": []
   },
   "outputs": [],
   "source": [
    "number_names = [\n",
    "    \"zero\", \"one\", \"two\", \"three\", \"four\", \n",
    "    \"five\", \"six\", \"seven\", \"eight\", \"nine\", \"ten\",\n",
    "]\n",
    "\n",
    "Token = int\n",
    "\n",
    "class NumbersAdapter(Adapter[Token]):\n",
    "    def get_starting_tokens(\n",
    "        self,\n",
    "        edge_name: str,\n",
    "        parameters: Mapping[str, Any],\n",
    "        *args: Any,\n",
    "        **kwargs: Any,\n",
    "    ) -> Iterable[Token]:\n",
    "        print(\"get_starting_tokens call with input:\", edge_name, parameters)\n",
    "        try:\n",
    "            max_value = parameters[\"max\"]\n",
    "            yield from range(0, max_value)\n",
    "        except Exception as e:\n",
    "            print(\"get_starting_tokens error\", e)\n",
    "            raise\n",
    "    \n",
    "    def project_property(\n",
    "        self,\n",
    "        data_contexts: Iterator[DataContext[Token]],\n",
    "        type_name: str,\n",
    "        field_name: str,\n",
    "        *args: Any,\n",
    "        **kwargs: Any,\n",
    "    ) -> Iterable[Tuple[DataContext[Token], Any]]:\n",
    "        print(\"project_property call with input:\", type_name, field_name)\n",
    "        try:\n",
    "            for context in data_contexts:\n",
    "                token = context.current_token\n",
    "                value = None\n",
    "                if token is not None:\n",
    "                    if field_name == \"value\":\n",
    "                        value = token\n",
    "                    elif field_name == \"name\":\n",
    "                        value = number_names[token]\n",
    "                    else:\n",
    "                        raise NotImplementedError()\n",
    "\n",
    "                yield (context, value)\n",
    "        except Exception as e:\n",
    "            print(\"project_property error\", e)\n",
    "            raise   \n",
    "    \n",
    "    def project_neighbors(\n",
    "        self,\n",
    "        data_contexts: Iterator[DataContext[Token]],\n",
    "        type_name: str,\n",
    "        edge_name: str,\n",
    "        parameters: Mapping[str, Any],\n",
    "        *args: Any,\n",
    "        **kwargs: Any,\n",
    "    ) -> Iterable[Tuple[DataContext[Token], Iterable[Token]]]:\n",
    "        print(\"project_property call with input:\", type_name, edge_name, parameters)\n",
    "        try:\n",
    "            for context in data_contexts:\n",
    "                token = context.current_token\n",
    "                neighbors = []\n",
    "                if token is not None:\n",
    "                    if edge_name == \"multiple\":\n",
    "                        if token > 0:\n",
    "                            max_value = parameters[\"max\"]\n",
    "                            neighbors = range(2 * token, max_value * token + 1, token)\n",
    "                    elif edge_name == \"predecessor\":\n",
    "                        if token > 0:\n",
    "                            neighbors = [token - 1]\n",
    "                    elif edge_name == \"successor\":\n",
    "                        neighbors = [token + 1]\n",
    "                    else:\n",
    "                        raise NotImplementedError()\n",
    "\n",
    "                yield (context, neighbors)\n",
    "        except Exception as e:\n",
    "            print(\"project_property error\", e)\n",
    "            raise\n",
    "    \n",
    "    def can_coerce_to_type(\n",
    "        self,\n",
    "        data_contexts: Iterator[DataContext[Token]],\n",
    "        type_name: str,\n",
    "        coerce_to_type: str,\n",
    "        *args: Any,\n",
    "        **kwargs: Any,\n",
    "    ) -> Iterable[Tuple[DataContext[Token], bool]]:\n",
    "        raise NotImplementedError()\n"
   ]
  },
  {
   "cell_type": "code",
   "execution_count": 3,
   "id": "dbcfe2e1-7384-4777-b1c7-c9abd1175f96",
   "metadata": {},
   "outputs": [],
   "source": [
    "adapter = NumbersAdapter()\n",
    "with open(\"./numbers.graphql\") as f:\n",
    "    schema = Schema(f.read())\n",
    "\n",
    "def execute(query, args):\n",
    "    return list(execute_query(adapter, schema, query, args))"
   ]
  },
  {
   "cell_type": "code",
   "execution_count": 4,
   "id": "78c81e1e-534f-4ace-a651-9257c9beaedc",
   "metadata": {},
   "outputs": [
    {
     "name": "stdout",
     "output_type": "stream",
     "text": [
      "project_property call with input: Number value\n",
      "project_property call with input: Number name\n",
      "get_starting_tokens call with input: Number {'max': 10}\n"
     ]
    },
    {
     "data": {
      "text/plain": [
       "[{'value': 0, 'name': 'zero'},\n",
       " {'value': 1, 'name': 'one'},\n",
       " {'value': 2, 'name': 'two'},\n",
       " {'name': 'three', 'value': 3},\n",
       " {'value': 4, 'name': 'four'},\n",
       " {'value': 5, 'name': 'five'},\n",
       " {'value': 6, 'name': 'six'},\n",
       " {'value': 7, 'name': 'seven'},\n",
       " {'name': 'eight', 'value': 8},\n",
       " {'name': 'nine', 'value': 9}]"
      ]
     },
     "execution_count": 4,
     "metadata": {},
     "output_type": "execute_result"
    }
   ],
   "source": [
    "query = \"\"\"\n",
    "{\n",
    "    Number(max: 10) {\n",
    "        value @output\n",
    "        name @output\n",
    "    }\n",
    "}\n",
    "\"\"\"\n",
    "args = {}\n",
    "execute(query, args)"
   ]
  },
  {
   "cell_type": "code",
   "execution_count": 5,
   "id": "42c7994d-8ea6-457e-a472-2b68ad1e8f1a",
   "metadata": {},
   "outputs": [
    {
     "name": "stdout",
     "output_type": "stream",
     "text": [
      "project_property call with input: Number value\n",
      "project_property call with input: Number value\n",
      "project_property call with input: Number multiple {'max': 3}\n",
      "get_starting_tokens call with input: Number {'max': 4}\n"
     ]
    },
    {
     "data": {
      "text/plain": [
       "[{'mul': 2, 'value': 1},\n",
       " {'mul': 3, 'value': 1},\n",
       " {'mul': 4, 'value': 2},\n",
       " {'value': 2, 'mul': 6},\n",
       " {'value': 3, 'mul': 6},\n",
       " {'mul': 9, 'value': 3}]"
      ]
     },
     "execution_count": 5,
     "metadata": {},
     "output_type": "execute_result"
    }
   ],
   "source": [
    "query = \"\"\"\n",
    "{\n",
    "    Number(max: 4) {\n",
    "        value @output\n",
    "        \n",
    "        multiple(max: 3) {\n",
    "            mul: value @output\n",
    "        }\n",
    "    }\n",
    "}\n",
    "\"\"\"\n",
    "args = {}\n",
    "execute(query, args)"
   ]
  },
  {
   "cell_type": "code",
   "execution_count": 6,
   "id": "5a42823b-153c-4074-8408-0c094eea9fb9",
   "metadata": {},
   "outputs": [
    {
     "name": "stdout",
     "output_type": "stream",
     "text": [
      "project_property call with input: Number value\n",
      "project_property call with input: Number value\n",
      "get_starting_tokens call with input: Number {'max': 4}\n"
     ]
    },
    {
     "data": {
      "text/plain": [
       "[{'value': 3}]"
      ]
     },
     "execution_count": 6,
     "metadata": {},
     "output_type": "execute_result"
    }
   ],
   "source": [
    "query = \"\"\"\n",
    "{\n",
    "    Number(max: 4) {\n",
    "        value @output @filter(op: \">\", value: [\"$bound\"])\n",
    "    }\n",
    "}\n",
    "\"\"\"\n",
    "args = {\n",
    "    \"bound\": 2,\n",
    "}\n",
    "execute(query, args)"
   ]
  },
  {
   "cell_type": "code",
   "execution_count": 7,
   "id": "e87dcea4-731e-4c4e-9d7d-ead536f183b4",
   "metadata": {},
   "outputs": [
    {
     "name": "stdout",
     "output_type": "stream",
     "text": [
      "Input is not valid GraphQL:  --> 1:1\n",
      "  |\n",
      "1 | this isn't GraphQL\n",
      "  | ^---\n",
      "  |\n",
      "  = expected executable_definition\n"
     ]
    }
   ],
   "source": [
    "query = \"this isn't GraphQL\"\n",
    "args = {}\n",
    "try:\n",
    "    execute(query, args)\n",
    "    assert(False)\n",
    "except ParseError as e:\n",
    "    print(e)"
   ]
  },
  {
   "cell_type": "code",
   "execution_count": 8,
   "id": "67ead102-4bcf-4c5d-8c0b-da8be876eaa1",
   "metadata": {},
   "outputs": [
    {
     "name": "stdout",
     "output_type": "stream",
     "text": [
      "The referenced path does not exist in the schema: [\"Number\", \"nonexistent\"]\n"
     ]
    }
   ],
   "source": [
    "query = \"\"\"\n",
    "{\n",
    "    Number(max: 4) {\n",
    "        nonexistent @output\n",
    "    }\n",
    "}\n",
    "\"\"\"\n",
    "args = {}\n",
    "try:\n",
    "    execute(query, args)\n",
    "    assert(False)\n",
    "except ValidationError as e:\n",
    "    print(e)"
   ]
  },
  {
   "cell_type": "code",
   "execution_count": 9,
   "id": "50e27672-f720-433c-8bf1-3899d0869247",
   "metadata": {},
   "outputs": [
    {
     "name": "stdout",
     "output_type": "stream",
     "text": [
      "Multiple fields are being output under the same name: DuplicatedNamesConflict { duplicates: {\"value\": [(\"Number\", \"value\"), (\"Number\", \"value\")]} }\n"
     ]
    }
   ],
   "source": [
    "query = \"\"\"\n",
    "{\n",
    "    Number(max: 4) {\n",
    "        value @output\n",
    "        value @output\n",
    "    }\n",
    "}\n",
    "\"\"\"\n",
    "args = {}\n",
    "try:\n",
    "    execute(query, args)\n",
    "    assert(False)\n",
    "except FrontendError as e:\n",
    "    print(e)"
   ]
  },
  {
   "cell_type": "code",
   "execution_count": 10,
   "id": "9cd29b28-87d4-4fcb-a868-49e364832b91",
   "metadata": {},
   "outputs": [
    {
     "name": "stdout",
     "output_type": "stream",
     "text": [
      "Multiple argument errors: [\n",
      "  One or more arguments required by this query were not provided: [\"bound\"];\n",
      "  One or more of the provided arguments are not used in this query: [\"not_bound\"];\n",
      "]\n"
     ]
    }
   ],
   "source": [
    "query = \"\"\"\n",
    "{\n",
    "    Number(max: 4) {\n",
    "        value @output @filter(op: \">\", value: [\"$bound\"])\n",
    "    }\n",
    "}\n",
    "\"\"\"\n",
    "args = {\n",
    "    \"not_bound\": \"123\",\n",
    "}\n",
    "try:\n",
    "    execute(query, args)\n",
    "    assert(False)\n",
    "except QueryArgumentsError as e:\n",
    "    print(e)"
   ]
  }
 ],
 "metadata": {
  "kernelspec": {
   "display_name": "Python 3",
   "language": "python",
   "name": "python3"
  },
  "language_info": {
   "codemirror_mode": {
    "name": "ipython",
    "version": 3
   },
   "file_extension": ".py",
   "mimetype": "text/x-python",
   "name": "python",
   "nbconvert_exporter": "python",
   "pygments_lexer": "ipython3",
   "version": "3.10.1"
  }
 },
 "nbformat": 4,
 "nbformat_minor": 5
}
